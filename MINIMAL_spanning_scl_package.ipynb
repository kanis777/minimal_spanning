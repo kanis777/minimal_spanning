{
 "cells": [
  {
   "cell_type": "code",
   "execution_count": 1,
   "id": "f6fe6e87",
   "metadata": {},
   "outputs": [
    {
     "name": "stdout",
     "output_type": "stream",
     "text": [
      "Requirement already satisfied: pywebio in c:\\users\\kanis\\appdata\\local\\programs\\python\\python310\\lib\\site-packages (1.7.1)\n",
      "Requirement already satisfied: tornado>=5.0 in c:\\users\\kanis\\appdata\\local\\programs\\python\\python310\\lib\\site-packages (from pywebio) (6.2)\n",
      "Requirement already satisfied: user-agents in c:\\users\\kanis\\appdata\\local\\programs\\python\\python310\\lib\\site-packages (from pywebio) (2.2.0)\n",
      "Requirement already satisfied: ua-parser>=0.10.0 in c:\\users\\kanis\\appdata\\local\\programs\\python\\python310\\lib\\site-packages (from user-agents->pywebio) (0.16.1)\n"
     ]
    },
    {
     "name": "stderr",
     "output_type": "stream",
     "text": [
      "\n",
      "[notice] A new release of pip available: 22.3.1 -> 23.0.1\n",
      "[notice] To update, run: python.exe -m pip install --upgrade pip\n"
     ]
    }
   ],
   "source": [
    "!pip install pywebio"
   ]
  },
  {
   "cell_type": "code",
   "execution_count": 2,
   "id": "569b67e9",
   "metadata": {},
   "outputs": [],
   "source": [
    "from pywebio.input import *\n",
    "from pywebio.output import *"
   ]
  },
  {
   "cell_type": "code",
   "execution_count": 3,
   "id": "b7ccf38c",
   "metadata": {},
   "outputs": [],
   "source": [
    "def default():\n",
    "    inp_graph=Graph(6)\n",
    "    inp_graph.addedge(0, 1, 2) \n",
    "    inp_graph.addedge(0, 3, 1) \n",
    "    inp_graph.addedge(0, 4, 4) \n",
    "    inp_graph.addedge(1, 2, 3) \n",
    "    inp_graph.addedge(1, 3, 3) \n",
    "    inp_graph.addedge(1, 5, 7) \n",
    "    inp_graph.addedge(2, 3, 5) \n",
    "    inp_graph.addedge(2, 5, 8) \n",
    "    inp_graph.addedge(3, 4, 9)   \n",
    "    put_table([\n",
    "    ['u', 'v','w'],\n",
    "    ['0','1','2' ],\n",
    "    ['0','3','1'],\n",
    "    ['0','4','4'],\n",
    "    ['1','2','3'],\n",
    "    ['1','3','3'],\n",
    "    ['1','5','7'],\n",
    "    ['2','3','5'],\n",
    "    ['2','5','8'],\n",
    "    ['3','4','9']])\n",
    "    inp_graph.kruskal()"
   ]
  },
  {
   "cell_type": "code",
   "execution_count": 4,
   "id": "2c14f12c",
   "metadata": {},
   "outputs": [],
   "source": [
    "def check_num(num):\n",
    "    if num<0 :\n",
    "        return \"Only positive integers\"\n",
    "        popup(\"Error!\",\"No negative allowed\")\n",
    "        toast('New message 🔔')"
   ]
  },
  {
   "cell_type": "code",
   "execution_count": 5,
   "id": "c29c0399",
   "metadata": {},
   "outputs": [],
   "source": [
    "def welcome():\n",
    "    put_markdown(\"`SCL PACKAGE`\")"
   ]
  },
  {
   "cell_type": "code",
   "execution_count": 6,
   "id": "eb818161",
   "metadata": {},
   "outputs": [],
   "source": [
    "class Graph:\n",
    "    \n",
    "    #constructor\n",
    "    def __init__(self,vertices):\n",
    "        self.V=vertices\n",
    "        self.graph=[]\n",
    "        \n",
    "    #add edge to graph\n",
    "    def addedge(self,u,v,w):\n",
    "        self.graph.append([u,v,w])\n",
    "       \n",
    "       \n",
    "    def findelmt(self,parent,i):\n",
    "        if(parent[i]==i):\n",
    "            return i\n",
    "        return self.findelmt(parent,parent[i])\n",
    "    \n",
    "    #union by rank\n",
    "    def merge(self,parent,rank,n1,n2):\n",
    "        \n",
    "        rootn1=self.findelmt(parent,n1)\n",
    "        rootn2=self.findelmt(parent,n2)\n",
    "        \n",
    "        if(rank[rootn1]<rank[rootn2]):\n",
    "            parent[rootn1]=rootn2\n",
    "        elif(rank[rootn1]>rank[rootn2]):\n",
    "            parent[rootn2]=rootn1\n",
    "        else:\n",
    "            parent[rootn2]=rootn1\n",
    "            rank[n1]+=1\n",
    "            \n",
    "    def kruskal(self):\n",
    "        \n",
    "        self.graph=sorted(self.graph,key=lambda weight:weight[2])\n",
    "        MST=[]\n",
    "        #MST.append(self.graph[0])\n",
    "        #MST.append(self.graph[1])\n",
    "        \n",
    "        n=0\n",
    "        g=0\n",
    "        parent=[]\n",
    "        rank=[]\n",
    "        \n",
    "        for i in range(self.V):\n",
    "            parent.append(i)\n",
    "            rank.append(0)\n",
    "            \n",
    "        while n<self.V-1:\n",
    "            u=self.graph[g][0]\n",
    "            v=self.graph[g][1]\n",
    "            w=self.graph[g][2]\n",
    "            g+=1\n",
    "            \n",
    "            ranku=self.findelmt(parent,u);\n",
    "            rankv=self.findelmt(parent,v)\n",
    "            \n",
    "            if(ranku!=rankv):\n",
    "                MST.append([u,v,w])\n",
    "                self.merge(parent,rank,u,v)\n",
    "                n+=1\n",
    "            else:\n",
    "                continue;\n",
    "        \n",
    "        for i in range(0,len(MST)):\n",
    "            print(MST[i])\n",
    "            put_markdown(f\"MST{MST[i]}\")\n"
   ]
  },
  {
   "cell_type": "code",
   "execution_count": 7,
   "id": "ea0a244b",
   "metadata": {},
   "outputs": [
    {
     "name": "stdout",
     "output_type": "stream",
     "text": [
      "Enter\n"
     ]
    }
   ],
   "source": [
    "welcome()\n",
    "check=radio(\"Do u want to enter the values or go with default?\",options=['Enter','Default'])\n",
    "print(check)\n"
   ]
  },
  {
   "cell_type": "code",
   "execution_count": 8,
   "id": "36265b58",
   "metadata": {},
   "outputs": [
    {
     "name": "stdout",
     "output_type": "stream",
     "text": [
      "No. of vertices= 6 No. of edges= 9\n"
     ]
    },
    {
     "ename": "SessionClosedException",
     "evalue": "",
     "output_type": "error",
     "traceback": [
      "\u001b[1;31m---------------------------------------------------------------------------\u001b[0m",
      "\u001b[1;31mSessionClosedException\u001b[0m                    Traceback (most recent call last)",
      "Cell \u001b[1;32mIn[8], line 12\u001b[0m\n\u001b[0;32m     10\u001b[0m put_table([[\u001b[38;5;124m'\u001b[39m\u001b[38;5;124mu\u001b[39m\u001b[38;5;124m'\u001b[39m,\u001b[38;5;124m'\u001b[39m\u001b[38;5;124mv\u001b[39m\u001b[38;5;124m'\u001b[39m,\u001b[38;5;124m'\u001b[39m\u001b[38;5;124mw\u001b[39m\u001b[38;5;124m'\u001b[39m]])\n\u001b[0;32m     11\u001b[0m \u001b[38;5;28;01mfor\u001b[39;00m i \u001b[38;5;129;01min\u001b[39;00m \u001b[38;5;28mrange\u001b[39m(\u001b[38;5;241m0\u001b[39m,info[\u001b[38;5;124m'\u001b[39m\u001b[38;5;124me\u001b[39m\u001b[38;5;124m'\u001b[39m],\u001b[38;5;241m1\u001b[39m):\n\u001b[1;32m---> 12\u001b[0m     u_v_w \u001b[38;5;241m=\u001b[39m \u001b[43minput_group\u001b[49m\u001b[43m(\u001b[49m\u001b[38;5;124;43m\"\u001b[39;49m\u001b[38;5;124;43mDATA\u001b[39;49m\u001b[38;5;124;43m\"\u001b[39;49m\u001b[43m,\u001b[49m\u001b[43m[\u001b[49m\n\u001b[0;32m     13\u001b[0m \u001b[43m  \u001b[49m\u001b[38;5;28;43minput\u001b[39;49m\u001b[43m(\u001b[49m\u001b[38;5;124;43m'\u001b[39;49m\u001b[38;5;124;43mu:\u001b[39;49m\u001b[38;5;124;43m'\u001b[39;49m\u001b[43m,\u001b[49m\u001b[43m \u001b[49m\u001b[43mname\u001b[49m\u001b[38;5;241;43m=\u001b[39;49m\u001b[38;5;124;43m'\u001b[39;49m\u001b[38;5;124;43mu\u001b[39;49m\u001b[38;5;124;43m'\u001b[39;49m\u001b[43m,\u001b[49m\u001b[38;5;28;43mtype\u001b[39;49m\u001b[38;5;241;43m=\u001b[39;49m\u001b[43mNUMBER\u001b[49m\u001b[43m,\u001b[49m\u001b[43mvalidate\u001b[49m\u001b[38;5;241;43m=\u001b[39;49m\u001b[43mcheck_num\u001b[49m\u001b[43m)\u001b[49m\u001b[43m,\u001b[49m\n\u001b[0;32m     14\u001b[0m \u001b[43m  \u001b[49m\u001b[38;5;28;43minput\u001b[39;49m\u001b[43m(\u001b[49m\u001b[38;5;124;43m'\u001b[39;49m\u001b[38;5;124;43mv:\u001b[39;49m\u001b[38;5;124;43m'\u001b[39;49m\u001b[43m,\u001b[49m\u001b[43m \u001b[49m\u001b[43mname\u001b[49m\u001b[38;5;241;43m=\u001b[39;49m\u001b[38;5;124;43m'\u001b[39;49m\u001b[38;5;124;43mv\u001b[39;49m\u001b[38;5;124;43m'\u001b[39;49m\u001b[43m,\u001b[49m\u001b[43m \u001b[49m\u001b[38;5;28;43mtype\u001b[39;49m\u001b[38;5;241;43m=\u001b[39;49m\u001b[43mNUMBER\u001b[49m\u001b[43m,\u001b[49m\u001b[43mvalidate\u001b[49m\u001b[38;5;241;43m=\u001b[39;49m\u001b[43mcheck_num\u001b[49m\u001b[43m)\u001b[49m\u001b[43m,\u001b[49m\n\u001b[0;32m     15\u001b[0m \u001b[43m  \u001b[49m\u001b[38;5;28;43minput\u001b[39;49m\u001b[43m(\u001b[49m\u001b[38;5;124;43m'\u001b[39;49m\u001b[38;5;124;43mw:\u001b[39;49m\u001b[38;5;124;43m'\u001b[39;49m\u001b[43m,\u001b[49m\u001b[43mname\u001b[49m\u001b[38;5;241;43m=\u001b[39;49m\u001b[38;5;124;43m'\u001b[39;49m\u001b[38;5;124;43mw\u001b[39;49m\u001b[38;5;124;43m'\u001b[39;49m\u001b[43m,\u001b[49m\u001b[38;5;28;43mtype\u001b[39;49m\u001b[38;5;241;43m=\u001b[39;49m\u001b[43mNUMBER\u001b[49m\u001b[43m,\u001b[49m\u001b[43mvalidate\u001b[49m\u001b[38;5;241;43m=\u001b[39;49m\u001b[43mcheck_num\u001b[49m\u001b[43m)\u001b[49m\u001b[43m,\u001b[49m\n\u001b[0;32m     16\u001b[0m \u001b[43m    \u001b[49m\u001b[43m]\u001b[49m\u001b[43m)\u001b[49m\n\u001b[0;32m     17\u001b[0m     put_table([[u_v_w[\u001b[38;5;124m'\u001b[39m\u001b[38;5;124mu\u001b[39m\u001b[38;5;124m'\u001b[39m],u_v_w[\u001b[38;5;124m'\u001b[39m\u001b[38;5;124mv\u001b[39m\u001b[38;5;124m'\u001b[39m],u_v_w[\u001b[38;5;124m'\u001b[39m\u001b[38;5;124mw\u001b[39m\u001b[38;5;124m'\u001b[39m]]])\n\u001b[0;32m     18\u001b[0m     inp_graph\u001b[38;5;241m.\u001b[39maddedge(u_v_w[\u001b[38;5;124m'\u001b[39m\u001b[38;5;124mu\u001b[39m\u001b[38;5;124m'\u001b[39m],u_v_w[\u001b[38;5;124m'\u001b[39m\u001b[38;5;124mv\u001b[39m\u001b[38;5;124m'\u001b[39m],u_v_w[\u001b[38;5;124m'\u001b[39m\u001b[38;5;124mw\u001b[39m\u001b[38;5;124m'\u001b[39m])\n",
      "File \u001b[1;32m~\\AppData\\Local\\Programs\\Python\\Python310\\lib\\site-packages\\pywebio\\input.py:733\u001b[0m, in \u001b[0;36minput_group\u001b[1;34m(label, inputs, validate, cancelable)\u001b[0m\n\u001b[0;32m    730\u001b[0m             \u001b[38;5;28;01mbreak\u001b[39;00m\n\u001b[0;32m    732\u001b[0m spec \u001b[38;5;241m=\u001b[39m \u001b[38;5;28mdict\u001b[39m(label\u001b[38;5;241m=\u001b[39mlabel, inputs\u001b[38;5;241m=\u001b[39mspec_inputs, cancelable\u001b[38;5;241m=\u001b[39mcancelable)\n\u001b[1;32m--> 733\u001b[0m \u001b[38;5;28;01mreturn\u001b[39;00m \u001b[43minput_control\u001b[49m\u001b[43m(\u001b[49m\u001b[43mspec\u001b[49m\u001b[43m,\u001b[49m\u001b[43m \u001b[49m\u001b[43mpreprocess_funcs\u001b[49m\u001b[38;5;241;43m=\u001b[39;49m\u001b[43mpreprocess_funcs\u001b[49m\u001b[43m,\u001b[49m\n\u001b[0;32m    734\u001b[0m \u001b[43m                     \u001b[49m\u001b[43mitem_valid_funcs\u001b[49m\u001b[38;5;241;43m=\u001b[39;49m\u001b[43mitem_valid_funcs\u001b[49m\u001b[43m,\u001b[49m\n\u001b[0;32m    735\u001b[0m \u001b[43m                     \u001b[49m\u001b[43monchange_funcs\u001b[49m\u001b[38;5;241;43m=\u001b[39;49m\u001b[43monchange_funcs\u001b[49m\u001b[43m,\u001b[49m\n\u001b[0;32m    736\u001b[0m \u001b[43m                     \u001b[49m\u001b[43mform_valid_funcs\u001b[49m\u001b[38;5;241;43m=\u001b[39;49m\u001b[43mvalidate\u001b[49m\u001b[43m)\u001b[49m\n",
      "File \u001b[1;32m~\\AppData\\Local\\Programs\\Python\\Python310\\lib\\site-packages\\pywebio\\session\\__init__.py:283\u001b[0m, in \u001b[0;36mchose_impl.<locals>.inner\u001b[1;34m(*args, **kwargs)\u001b[0m\n\u001b[0;32m    281\u001b[0m     \u001b[38;5;28;01mreturn\u001b[39;00m to_coroutine(gen)\n\u001b[0;32m    282\u001b[0m \u001b[38;5;28;01melse\u001b[39;00m:\n\u001b[1;32m--> 283\u001b[0m     \u001b[38;5;28;01mreturn\u001b[39;00m \u001b[43mrun_as_function\u001b[49m\u001b[43m(\u001b[49m\u001b[43mgen\u001b[49m\u001b[43m)\u001b[49m\n",
      "File \u001b[1;32m~\\AppData\\Local\\Programs\\Python\\Python310\\lib\\site-packages\\pywebio\\utils.py:296\u001b[0m, in \u001b[0;36mrun_as_function\u001b[1;34m(gen)\u001b[0m\n\u001b[0;32m    294\u001b[0m \u001b[38;5;28;01mwhile\u001b[39;00m \u001b[38;5;241m1\u001b[39m:\n\u001b[0;32m    295\u001b[0m     \u001b[38;5;28;01mtry\u001b[39;00m:\n\u001b[1;32m--> 296\u001b[0m         res \u001b[38;5;241m=\u001b[39m \u001b[43mgen\u001b[49m\u001b[38;5;241;43m.\u001b[39;49m\u001b[43msend\u001b[49m\u001b[43m(\u001b[49m\u001b[43mres\u001b[49m\u001b[43m)\u001b[49m\n\u001b[0;32m    297\u001b[0m     \u001b[38;5;28;01mexcept\u001b[39;00m \u001b[38;5;167;01mStopIteration\u001b[39;00m \u001b[38;5;28;01mas\u001b[39;00m e:\n\u001b[0;32m    298\u001b[0m         \u001b[38;5;28;01mif\u001b[39;00m \u001b[38;5;28mlen\u001b[39m(e\u001b[38;5;241m.\u001b[39margs) \u001b[38;5;241m==\u001b[39m \u001b[38;5;241m1\u001b[39m:\n",
      "File \u001b[1;32m~\\AppData\\Local\\Programs\\Python\\Python310\\lib\\site-packages\\pywebio\\io_ctrl.py:283\u001b[0m, in \u001b[0;36minput_control\u001b[1;34m(spec, preprocess_funcs, item_valid_funcs, onchange_funcs, form_valid_funcs)\u001b[0m\n\u001b[0;32m    272\u001b[0m \u001b[38;5;250m\u001b[39m\u001b[38;5;124;03m\"\"\"\u001b[39;00m\n\u001b[0;32m    273\u001b[0m \u001b[38;5;124;03m发送input命令，监听事件，验证输入项，返回结果\u001b[39;00m\n\u001b[0;32m    274\u001b[0m \u001b[38;5;124;03m:param spec:\u001b[39;00m\n\u001b[1;32m   (...)\u001b[0m\n\u001b[0;32m    279\u001b[0m \u001b[38;5;124;03m:return:\u001b[39;00m\n\u001b[0;32m    280\u001b[0m \u001b[38;5;124;03m\"\"\"\u001b[39;00m\n\u001b[0;32m    281\u001b[0m send_msg(\u001b[38;5;124m'\u001b[39m\u001b[38;5;124minput_group\u001b[39m\u001b[38;5;124m'\u001b[39m, spec)\n\u001b[1;32m--> 283\u001b[0m data \u001b[38;5;241m=\u001b[39m \u001b[38;5;28;01myield\u001b[39;00m \u001b[43minput_event_handle\u001b[49m\u001b[43m(\u001b[49m\u001b[43mitem_valid_funcs\u001b[49m\u001b[43m,\u001b[49m\u001b[43m \u001b[49m\u001b[43mform_valid_funcs\u001b[49m\u001b[43m,\u001b[49m\u001b[43m \u001b[49m\u001b[43mpreprocess_funcs\u001b[49m\u001b[43m,\u001b[49m\u001b[43m \u001b[49m\u001b[43monchange_funcs\u001b[49m\u001b[43m)\u001b[49m\n\u001b[0;32m    285\u001b[0m send_msg(\u001b[38;5;124m'\u001b[39m\u001b[38;5;124mdestroy_form\u001b[39m\u001b[38;5;124m'\u001b[39m)\n\u001b[0;32m    286\u001b[0m \u001b[38;5;28;01mreturn\u001b[39;00m data\n",
      "File \u001b[1;32m~\\AppData\\Local\\Programs\\Python\\Python310\\lib\\site-packages\\pywebio\\session\\__init__.py:283\u001b[0m, in \u001b[0;36mchose_impl.<locals>.inner\u001b[1;34m(*args, **kwargs)\u001b[0m\n\u001b[0;32m    281\u001b[0m     \u001b[38;5;28;01mreturn\u001b[39;00m to_coroutine(gen)\n\u001b[0;32m    282\u001b[0m \u001b[38;5;28;01melse\u001b[39;00m:\n\u001b[1;32m--> 283\u001b[0m     \u001b[38;5;28;01mreturn\u001b[39;00m \u001b[43mrun_as_function\u001b[49m\u001b[43m(\u001b[49m\u001b[43mgen\u001b[49m\u001b[43m)\u001b[49m\n",
      "File \u001b[1;32m~\\AppData\\Local\\Programs\\Python\\Python310\\lib\\site-packages\\pywebio\\utils.py:296\u001b[0m, in \u001b[0;36mrun_as_function\u001b[1;34m(gen)\u001b[0m\n\u001b[0;32m    294\u001b[0m \u001b[38;5;28;01mwhile\u001b[39;00m \u001b[38;5;241m1\u001b[39m:\n\u001b[0;32m    295\u001b[0m     \u001b[38;5;28;01mtry\u001b[39;00m:\n\u001b[1;32m--> 296\u001b[0m         res \u001b[38;5;241m=\u001b[39m \u001b[43mgen\u001b[49m\u001b[38;5;241;43m.\u001b[39;49m\u001b[43msend\u001b[49m\u001b[43m(\u001b[49m\u001b[43mres\u001b[49m\u001b[43m)\u001b[49m\n\u001b[0;32m    297\u001b[0m     \u001b[38;5;28;01mexcept\u001b[39;00m \u001b[38;5;167;01mStopIteration\u001b[39;00m \u001b[38;5;28;01mas\u001b[39;00m e:\n\u001b[0;32m    298\u001b[0m         \u001b[38;5;28;01mif\u001b[39;00m \u001b[38;5;28mlen\u001b[39m(e\u001b[38;5;241m.\u001b[39margs) \u001b[38;5;241m==\u001b[39m \u001b[38;5;241m1\u001b[39m:\n",
      "File \u001b[1;32m~\\AppData\\Local\\Programs\\Python\\Python310\\lib\\site-packages\\pywebio\\io_ctrl.py:344\u001b[0m, in \u001b[0;36minput_event_handle\u001b[1;34m(item_valid_funcs, form_valid_funcs, preprocess_funcs, onchange_funcs)\u001b[0m\n\u001b[0;32m    334\u001b[0m \u001b[38;5;250m\u001b[39m\u001b[38;5;124;03m\"\"\"\u001b[39;00m\n\u001b[0;32m    335\u001b[0m \u001b[38;5;124;03m根据提供的校验函数处理表单事件\u001b[39;00m\n\u001b[0;32m    336\u001b[0m \u001b[38;5;124;03m:param item_valid_funcs: map(name -> valid_func)  valid_func 为 None 时，不进行验证\u001b[39;00m\n\u001b[1;32m   (...)\u001b[0m\n\u001b[0;32m    341\u001b[0m \u001b[38;5;124;03m:return:\u001b[39;00m\n\u001b[0;32m    342\u001b[0m \u001b[38;5;124;03m\"\"\"\u001b[39;00m\n\u001b[0;32m    343\u001b[0m \u001b[38;5;28;01mwhile\u001b[39;00m \u001b[38;5;28;01mTrue\u001b[39;00m:\n\u001b[1;32m--> 344\u001b[0m     event \u001b[38;5;241m=\u001b[39m \u001b[38;5;28;01myield\u001b[39;00m \u001b[43mnext_client_event\u001b[49m\u001b[43m(\u001b[49m\u001b[43m)\u001b[49m\n\u001b[0;32m    345\u001b[0m     event_name, event_data \u001b[38;5;241m=\u001b[39m event[\u001b[38;5;124m'\u001b[39m\u001b[38;5;124mevent\u001b[39m\u001b[38;5;124m'\u001b[39m], event[\u001b[38;5;124m'\u001b[39m\u001b[38;5;124mdata\u001b[39m\u001b[38;5;124m'\u001b[39m]\n\u001b[0;32m    346\u001b[0m     \u001b[38;5;28;01mif\u001b[39;00m event_name \u001b[38;5;241m==\u001b[39m \u001b[38;5;124m'\u001b[39m\u001b[38;5;124minput_event\u001b[39m\u001b[38;5;124m'\u001b[39m:\n",
      "File \u001b[1;32m~\\AppData\\Local\\Programs\\Python\\Python310\\lib\\site-packages\\pywebio\\session\\__init__.py:283\u001b[0m, in \u001b[0;36mchose_impl.<locals>.inner\u001b[1;34m(*args, **kwargs)\u001b[0m\n\u001b[0;32m    281\u001b[0m     \u001b[38;5;28;01mreturn\u001b[39;00m to_coroutine(gen)\n\u001b[0;32m    282\u001b[0m \u001b[38;5;28;01melse\u001b[39;00m:\n\u001b[1;32m--> 283\u001b[0m     \u001b[38;5;28;01mreturn\u001b[39;00m \u001b[43mrun_as_function\u001b[49m\u001b[43m(\u001b[49m\u001b[43mgen\u001b[49m\u001b[43m)\u001b[49m\n",
      "File \u001b[1;32m~\\AppData\\Local\\Programs\\Python\\Python310\\lib\\site-packages\\pywebio\\utils.py:296\u001b[0m, in \u001b[0;36mrun_as_function\u001b[1;34m(gen)\u001b[0m\n\u001b[0;32m    294\u001b[0m \u001b[38;5;28;01mwhile\u001b[39;00m \u001b[38;5;241m1\u001b[39m:\n\u001b[0;32m    295\u001b[0m     \u001b[38;5;28;01mtry\u001b[39;00m:\n\u001b[1;32m--> 296\u001b[0m         res \u001b[38;5;241m=\u001b[39m \u001b[43mgen\u001b[49m\u001b[38;5;241;43m.\u001b[39;49m\u001b[43msend\u001b[49m\u001b[43m(\u001b[49m\u001b[43mres\u001b[49m\u001b[43m)\u001b[49m\n\u001b[0;32m    297\u001b[0m     \u001b[38;5;28;01mexcept\u001b[39;00m \u001b[38;5;167;01mStopIteration\u001b[39;00m \u001b[38;5;28;01mas\u001b[39;00m e:\n\u001b[0;32m    298\u001b[0m         \u001b[38;5;28;01mif\u001b[39;00m \u001b[38;5;28mlen\u001b[39m(e\u001b[38;5;241m.\u001b[39margs) \u001b[38;5;241m==\u001b[39m \u001b[38;5;241m1\u001b[39m:\n",
      "File \u001b[1;32m~\\AppData\\Local\\Programs\\Python\\Python310\\lib\\site-packages\\pywebio\\session\\__init__.py:290\u001b[0m, in \u001b[0;36mnext_client_event\u001b[1;34m()\u001b[0m\n\u001b[0;32m    288\u001b[0m \u001b[38;5;129m@chose_impl\u001b[39m\n\u001b[0;32m    289\u001b[0m \u001b[38;5;28;01mdef\u001b[39;00m \u001b[38;5;21mnext_client_event\u001b[39m():\n\u001b[1;32m--> 290\u001b[0m     res \u001b[38;5;241m=\u001b[39m \u001b[38;5;28;01myield\u001b[39;00m \u001b[43mget_current_session\u001b[49m\u001b[43m(\u001b[49m\u001b[43m)\u001b[49m\u001b[38;5;241;43m.\u001b[39;49m\u001b[43mnext_client_event\u001b[49m\u001b[43m(\u001b[49m\u001b[43m)\u001b[49m\n\u001b[0;32m    291\u001b[0m     \u001b[38;5;28;01mreturn\u001b[39;00m res\n",
      "File \u001b[1;32m~\\AppData\\Local\\Programs\\Python\\Python310\\lib\\site-packages\\pywebio\\session\\threadbased.py:141\u001b[0m, in \u001b[0;36mThreadBasedSession.next_client_event\u001b[1;34m(self)\u001b[0m\n\u001b[0;32m    139\u001b[0m event \u001b[38;5;241m=\u001b[39m event_mq\u001b[38;5;241m.\u001b[39mget()\n\u001b[0;32m    140\u001b[0m \u001b[38;5;28;01mif\u001b[39;00m event \u001b[38;5;129;01mis\u001b[39;00m \u001b[38;5;28;01mNone\u001b[39;00m:\n\u001b[1;32m--> 141\u001b[0m     \u001b[38;5;28;01mraise\u001b[39;00m SessionClosedException\n\u001b[0;32m    142\u001b[0m \u001b[38;5;28;01mreturn\u001b[39;00m event\n",
      "\u001b[1;31mSessionClosedException\u001b[0m: "
     ]
    }
   ],
   "source": [
    "if(check=='Default'):\n",
    "    default()\n",
    "else:\n",
    "    info = input_group(\"DATA\",[\n",
    "  input('No. of vertices:', name='v',type=NUMBER,validate=check_num),\n",
    "  input('No. of edges:', name='e', type=NUMBER,validate=check_num),\n",
    "    ])     \n",
    "    print(\"No. of vertices=\",info['v'],\"No. of edges=\",info['e'])\n",
    "    inp_graph=Graph(info['v']) \n",
    "    put_table([['u','v','w']])\n",
    "    for i in range(0,info['e'],1):\n",
    "        u_v_w = input_group(\"DATA\",[\n",
    "      input('u:', name='u',type=NUMBER,validate=check_num),\n",
    "      input('v:', name='v', type=NUMBER,validate=check_num),\n",
    "      input('w:',name='w',type=NUMBER,validate=check_num),\n",
    "        ])\n",
    "        put_table([[u_v_w['u'],u_v_w['v'],u_v_w['w']]])\n",
    "        inp_graph.addedge(u_v_w['u'],u_v_w['v'],u_v_w['w'])\n",
    "    put_markdown(\"MIN SPANNING OF THE GIVEN GRAPH:\")\n",
    "    inp_graph.kruskal()"
   ]
  },
  {
   "cell_type": "code",
   "execution_count": null,
   "id": "c2b5f51e",
   "metadata": {},
   "outputs": [],
   "source": [
    "popup('MINIMAL SPANNING TREE ALGORITHM',\"Kruskal's Algorithm Done\")\n",
    "toast('New message 🔔')"
   ]
  }
 ],
 "metadata": {
  "kernelspec": {
   "display_name": "Python 3 (ipykernel)",
   "language": "python",
   "name": "python3"
  },
  "language_info": {
   "codemirror_mode": {
    "name": "ipython",
    "version": 3
   },
   "file_extension": ".py",
   "mimetype": "text/x-python",
   "name": "python",
   "nbconvert_exporter": "python",
   "pygments_lexer": "ipython3",
   "version": "3.10.9"
  }
 },
 "nbformat": 4,
 "nbformat_minor": 5
}
